{
 "cells": [
  {
   "cell_type": "code",
   "execution_count": 6,
   "id": "12761c15",
   "metadata": {},
   "outputs": [],
   "source": [
    "import numpy as np  # Numerical operations and arrays\n",
    "import pandas as pd  # Data manipulation and analysis\n",
    "import matplotlib.pyplot as plt  # Plotting and visualization\n",
    "import seaborn as sns  # Statistical graphics\n",
    "import statsmodels.api as sm  # Statistical modeling\n",
    "from sklearn.model_selection import train_test_split\n",
    "from sklearn.feature_extraction.text import TfidfVectorizer\n",
    "from sklearn.linear_model import LogisticRegression\n",
    "from sklearn.ensemble import RandomForestClassifier, AdaBoostClassifier\n",
    "from sklearn.neighbors import KNeighborsClassifier\n",
    "from sklearn.metrics import accuracy_score, classification_report\n"
   ]
  },
  {
   "cell_type": "code",
   "execution_count": 15,
   "id": "20fd0598",
   "metadata": {},
   "outputs": [],
   "source": [
    "# Load and prepare your data\n",
    "df=pd.read_csv(r'D:\\Tableau\\spam\\spam.csv', header=0)\n"
   ]
  },
  {
   "cell_type": "code",
   "execution_count": 16,
   "id": "9c62f530",
   "metadata": {},
   "outputs": [
    {
     "data": {
      "text/html": [
       "<div>\n",
       "<style scoped>\n",
       "    .dataframe tbody tr th:only-of-type {\n",
       "        vertical-align: middle;\n",
       "    }\n",
       "\n",
       "    .dataframe tbody tr th {\n",
       "        vertical-align: top;\n",
       "    }\n",
       "\n",
       "    .dataframe thead th {\n",
       "        text-align: right;\n",
       "    }\n",
       "</style>\n",
       "<table border=\"1\" class=\"dataframe\">\n",
       "  <thead>\n",
       "    <tr style=\"text-align: right;\">\n",
       "      <th></th>\n",
       "      <th>Category</th>\n",
       "      <th>Message</th>\n",
       "    </tr>\n",
       "  </thead>\n",
       "  <tbody>\n",
       "    <tr>\n",
       "      <th>0</th>\n",
       "      <td>ham</td>\n",
       "      <td>Go until jurong point, crazy.. Available only ...</td>\n",
       "    </tr>\n",
       "    <tr>\n",
       "      <th>1</th>\n",
       "      <td>ham</td>\n",
       "      <td>Ok lar... Joking wif u oni...</td>\n",
       "    </tr>\n",
       "    <tr>\n",
       "      <th>2</th>\n",
       "      <td>spam</td>\n",
       "      <td>Free entry in 2 a wkly comp to win FA Cup fina...</td>\n",
       "    </tr>\n",
       "    <tr>\n",
       "      <th>3</th>\n",
       "      <td>ham</td>\n",
       "      <td>U dun say so early hor... U c already then say...</td>\n",
       "    </tr>\n",
       "    <tr>\n",
       "      <th>4</th>\n",
       "      <td>ham</td>\n",
       "      <td>Nah I don't think he goes to usf, he lives aro...</td>\n",
       "    </tr>\n",
       "  </tbody>\n",
       "</table>\n",
       "</div>"
      ],
      "text/plain": [
       "  Category                                            Message\n",
       "0      ham  Go until jurong point, crazy.. Available only ...\n",
       "1      ham                      Ok lar... Joking wif u oni...\n",
       "2     spam  Free entry in 2 a wkly comp to win FA Cup fina...\n",
       "3      ham  U dun say so early hor... U c already then say...\n",
       "4      ham  Nah I don't think he goes to usf, he lives aro..."
      ]
     },
     "execution_count": 16,
     "metadata": {},
     "output_type": "execute_result"
    }
   ],
   "source": [
    "df.head()"
   ]
  },
  {
   "cell_type": "code",
   "execution_count": 17,
   "id": "bda7082b",
   "metadata": {},
   "outputs": [
    {
     "data": {
      "text/plain": [
       "Text(0.5, 1.0, 'Count of Emails by Category')"
      ]
     },
     "execution_count": 17,
     "metadata": {},
     "output_type": "execute_result"
    },
    {
     "data": {
      "image/png": "[encoded data removed]",
      "text/plain": [
       "<Figure size 640x480 with 1 Axes>"
      ]
     },
     "metadata": {},
     "output_type": "display_data"
    }
   ],
   "source": [
    "import warnings\n",
    "warnings.filterwarnings(\"ignore\")  # ignore all warnings\n",
    "\n",
    "sns.countplot(x='Category',data=df, palette='viridis') # Create the count plot\n",
    "plt.title('Count of Emails by Category')"
   ]
  },
  {
   "cell_type": "code",
   "execution_count": 18,
   "id": "b5f0d064",
   "metadata": {},
   "outputs": [
    {
     "name": "stdout",
     "output_type": "stream",
     "text": [
      "<class 'pandas.core.frame.DataFrame'>\n",
      "RangeIndex: 5572 entries, 0 to 5571\n",
      "Data columns (total 2 columns):\n",
      " #   Column    Non-Null Count  Dtype \n",
      "---  ------    --------------  ----- \n",
      " 0   Category  5572 non-null   object\n",
      " 1   Message   5572 non-null   object\n",
      "dtypes: object(2)\n",
      "memory usage: 87.2+ KB\n"
     ]
    }
   ],
   "source": [
    "df.info()"
   ]
  },
  {
   "cell_type": "code",
   "execution_count": 22,
   "id": "a808d0ab",
   "metadata": {},
   "outputs": [
    {
     "data": {
      "text/plain": [
       "(5572, 2)"
      ]
     },
     "execution_count": 22,
     "metadata": {},
     "output_type": "execute_result"
    }
   ],
   "source": [
    "df.shape\n"
   ]
  },
  {
   "cell_type": "code",
   "execution_count": 40,
   "id": "7ace8f52",
   "metadata": {},
   "outputs": [
    {
     "data": {
      "text/plain": [
       "Index(['Category', 'Message'], dtype='object')"
      ]
     },
     "execution_count": 40,
     "metadata": {},
     "output_type": "execute_result"
    }
   ],
   "source": [
    "df.columns"
   ]
  },
  {
   "cell_type": "code",
   "execution_count": null,
   "id": "a7dc4116",
   "metadata": {},
   "outputs": [],
   "source": []
  },
  {
   "cell_type": "code",
   "execution_count": 47,
   "id": "6e250b7c",
   "metadata": {},
   "outputs": [],
   "source": [
    "# Preprocess text\n",
    "vectorizer = TfidfVectorizer(stop_words='english')\n",
    "X = vectorizer.fit_transform(df['Message'])\n",
    "\n",
    "# Encode target variable\n",
    "y = df['Category'].apply(lambda x: 1 if x == 'spam' else 0)  # Assuming 'spam' and 'not spam' labels\n",
    "\n",
    "# Split dataset\n",
    "X_train, X_test, y_train, y_test = train_test_split(X, y, test_size=0.2, random_state=42)"
   ]
  },
  {
   "cell_type": "code",
   "execution_count": 48,
   "id": "adc6f79e",
   "metadata": {},
   "outputs": [
    {
     "data": {
      "text/plain": [
       "0       0\n",
       "1       0\n",
       "2       1\n",
       "3       0\n",
       "4       0\n",
       "       ..\n",
       "5567    1\n",
       "5568    0\n",
       "5569    0\n",
       "5570    0\n",
       "5571    0\n",
       "Name: Category, Length: 5572, dtype: int64"
      ]
     },
     "execution_count": 48,
     "metadata": {},
     "output_type": "execute_result"
    }
   ],
   "source": [
    "y"
   ]
  },
  {
   "cell_type": "code",
   "execution_count": 49,
   "id": "f066ea89",
   "metadata": {},
   "outputs": [
    {
     "data": {
      "text/plain": [
       "<4457x8440 sparse matrix of type '<class 'numpy.float64'>'\n",
       "\twith 34840 stored elements in Compressed Sparse Row format>"
      ]
     },
     "execution_count": 49,
     "metadata": {},
     "output_type": "execute_result"
    }
   ],
   "source": [
    "X_train"
   ]
  },
  {
   "cell_type": "code",
   "execution_count": null,
   "id": "d849aff5",
   "metadata": {},
   "outputs": [],
   "source": []
  },
  {
   "cell_type": "markdown",
   "id": "3458c41c",
   "metadata": {},
   "source": [
    "### Logistic Regression"
   ]
  },
  {
   "cell_type": "code",
   "execution_count": 42,
   "id": "5a90e9ae",
   "metadata": {},
   "outputs": [
    {
     "name": "stdout",
     "output_type": "stream",
     "text": [
      "Logistic Regression Accuracy: 0.95695067264574\n",
      "              precision    recall  f1-score   support\n",
      "\n",
      "           0       0.95      1.00      0.98       966\n",
      "           1       1.00      0.68      0.81       149\n",
      "\n",
      "    accuracy                           0.96      1115\n",
      "   macro avg       0.98      0.84      0.89      1115\n",
      "weighted avg       0.96      0.96      0.95      1115\n",
      "\n"
     ]
    }
   ],
   "source": [
    "from sklearn.linear_model import LogisticRegression\n",
    "from sklearn.metrics import accuracy_score, classification_report\n",
    "\n",
    "# Initialize and train the model\n",
    "log_reg = LogisticRegression()\n",
    "log_reg.fit(X_train, y_train)\n",
    "\n",
    "# Predictions\n",
    "y_pred_log_reg = log_reg.predict(X_test)\n",
    "\n",
    "# Accuracy\n",
    "accuracy_log_reg = accuracy_score(y_test, y_pred_log_reg)\n",
    "print(\"Logistic Regression Accuracy:\", accuracy_log_reg)\n",
    "print(classification_report(y_test, y_pred_log_reg))\n"
   ]
  },
  {
   "cell_type": "markdown",
   "id": "4ef5f692",
   "metadata": {},
   "source": [
    "### Random Forest Classifier"
   ]
  },
  {
   "cell_type": "code",
   "execution_count": 43,
   "id": "005d725b",
   "metadata": {},
   "outputs": [
    {
     "name": "stdout",
     "output_type": "stream",
     "text": [
      "Random Forest Accuracy: 0.9811659192825112\n",
      "              precision    recall  f1-score   support\n",
      "\n",
      "           0       0.98      1.00      0.99       966\n",
      "           1       1.00      0.86      0.92       149\n",
      "\n",
      "    accuracy                           0.98      1115\n",
      "   macro avg       0.99      0.93      0.96      1115\n",
      "weighted avg       0.98      0.98      0.98      1115\n",
      "\n"
     ]
    }
   ],
   "source": [
    "from sklearn.ensemble import RandomForestClassifier\n",
    "\n",
    "# Initialize and train the model\n",
    "rf_clf = RandomForestClassifier()\n",
    "rf_clf.fit(X_train, y_train)\n",
    "\n",
    "# Predictions\n",
    "y_pred_rf = rf_clf.predict(X_test)\n",
    "\n",
    "# Accuracy\n",
    "accuracy_rf = accuracy_score(y_test, y_pred_rf)\n",
    "print(\"Random Forest Accuracy:\", accuracy_rf)\n",
    "print(classification_report(y_test, y_pred_rf))\n"
   ]
  },
  {
   "cell_type": "markdown",
   "id": "8a343fb0",
   "metadata": {},
   "source": [
    "### AdaBoost Classifier"
   ]
  },
  {
   "cell_type": "code",
   "execution_count": 45,
   "id": "c7c85d00",
   "metadata": {},
   "outputs": [
    {
     "name": "stdout",
     "output_type": "stream",
     "text": [
      "AdaBoost Accuracy: 0.9730941704035875\n",
      "              precision    recall  f1-score   support\n",
      "\n",
      "           0       0.97      0.99      0.98       966\n",
      "           1       0.96      0.83      0.89       149\n",
      "\n",
      "    accuracy                           0.97      1115\n",
      "   macro avg       0.97      0.91      0.94      1115\n",
      "weighted avg       0.97      0.97      0.97      1115\n",
      "\n"
     ]
    }
   ],
   "source": [
    "from sklearn.ensemble import AdaBoostClassifier\n",
    "from sklearn.tree import DecisionTreeClassifier\n",
    "\n",
    "# Initialize and train the model\n",
    "ada_clf = AdaBoostClassifier()\n",
    "ada_clf.fit(X_train, y_train)\n",
    "\n",
    "# Predictions\n",
    "y_pred_ada = ada_clf.predict(X_test)\n",
    "\n",
    "# Accuracy\n",
    "accuracy_ada = accuracy_score(y_test, y_pred_ada)\n",
    "print(\"AdaBoost Accuracy:\", accuracy_ada)\n",
    "print(classification_report(y_test, y_pred_ada))"
   ]
  },
  {
   "cell_type": "markdown",
   "id": "664c98c7",
   "metadata": {},
   "source": [
    "### K-Nearest Neighbors (KNN)"
   ]
  },
  {
   "cell_type": "code",
   "execution_count": 46,
   "id": "2fb05c85",
   "metadata": {},
   "outputs": [
    {
     "name": "stdout",
     "output_type": "stream",
     "text": [
      "K-Nearest Neighbors Accuracy: 0.9103139013452914\n",
      "              precision    recall  f1-score   support\n",
      "\n",
      "           0       0.91      1.00      0.95       966\n",
      "           1       1.00      0.33      0.49       149\n",
      "\n",
      "    accuracy                           0.91      1115\n",
      "   macro avg       0.95      0.66      0.72      1115\n",
      "weighted avg       0.92      0.91      0.89      1115\n",
      "\n"
     ]
    }
   ],
   "source": [
    "from sklearn.neighbors import KNeighborsClassifier\n",
    "\n",
    "# Initialize and train the model\n",
    "knn = KNeighborsClassifier()\n",
    "knn.fit(X_train, y_train)\n",
    "\n",
    "# Predictions\n",
    "y_pred_knn = knn.predict(X_test)\n",
    "\n",
    "# Accuracy\n",
    "accuracy_knn = accuracy_score(y_test, y_pred_knn)\n",
    "print(\"K-Nearest Neighbors Accuracy:\", accuracy_knn)\n",
    "print(classification_report(y_test, y_pred_knn))"
   ]
  },
  {
   "cell_type": "code",
   "execution_count": null,
   "id": "c800e3e4",
   "metadata": {},
   "outputs": [],
   "source": []
  },
  {
   "cell_type": "code",
   "execution_count": 55,
   "id": "fb26c03d",
   "metadata": {},
   "outputs": [
    {
     "name": "stdout",
     "output_type": "stream",
     "text": [
      "                 Model  Accuracy  Precision    Recall  F1-Score\n",
      "0  Logistic Regression  0.956951    1.00000  0.677852  0.808000\n",
      "1        Random Forest  0.981166    1.00000  0.859060  0.924188\n",
      "2             AdaBoost  0.973094    0.96124  0.832215  0.892086\n",
      "3  K-Nearest Neighbors  0.910314    1.00000  0.328859  0.494949\n"
     ]
    }
   ],
   "source": [
    "# Assuming 1 represents 'spam' and 0 represents 'not spam' in your dataset\n",
    "spam_label = 1  # or use 'spam' if it's a string\n",
    "not_spam_label = 0  # or use 'ham' if it's a string\n",
    "\n",
    "# Initialize dictionaries to store results\n",
    "results = {\n",
    "    'Model': [],\n",
    "    'Accuracy': [],\n",
    "    'Precision': [],\n",
    "    'Recall': [],\n",
    "    'F1-Score': []\n",
    "}\n",
    "# Logistic Regression Results\n",
    "report_log_reg = classification_report(y_test, y_pred_log_reg, output_dict=True)\n",
    "results['Model'].append('Logistic Regression')\n",
    "results['Accuracy'].append(accuracy_score(y_test, y_pred_log_reg))\n",
    "results['Precision'].append(report_log_reg[str(spam_label)]['precision'])\n",
    "results['Recall'].append(report_log_reg[str(spam_label)]['recall'])\n",
    "results['F1-Score'].append(report_log_reg[str(spam_label)]['f1-score'])\n",
    "\n",
    "# Random Forest Results\n",
    "report_rf = classification_report(y_test, y_pred_rf, output_dict=True)\n",
    "results['Model'].append('Random Forest')\n",
    "results['Accuracy'].append(accuracy_score(y_test, y_pred_rf))\n",
    "results['Precision'].append(report_rf[str(spam_label)]['precision'])\n",
    "results['Recall'].append(report_rf[str(spam_label)]['recall'])\n",
    "results['F1-Score'].append(report_rf[str(spam_label)]['f1-score'])\n",
    "\n",
    "# AdaBoost Results\n",
    "report_ada = classification_report(y_test, y_pred_ada, output_dict=True)\n",
    "results['Model'].append('AdaBoost')\n",
    "results['Accuracy'].append(accuracy_score(y_test, y_pred_ada))\n",
    "results['Precision'].append(report_ada[str(spam_label)]['precision'])\n",
    "results['Recall'].append(report_ada[str(spam_label)]['recall'])\n",
    "results['F1-Score'].append(report_ada[str(spam_label)]['f1-score'])\n",
    "\n",
    "# KNN Results\n",
    "report_knn = classification_report(y_test, y_pred_knn, output_dict=True)\n",
    "results['Model'].append('K-Nearest Neighbors')\n",
    "results['Accuracy'].append(accuracy_score(y_test, y_pred_knn))\n",
    "results['Precision'].append(report_knn[str(spam_label)]['precision'])\n",
    "results['Recall'].append(report_knn[str(spam_label)]['recall'])\n",
    "results['F1-Score'].append(report_knn[str(spam_label)]['f1-score'])\n",
    "\n",
    "# Create a DataFrame to summarize results\n",
    "results_df = pd.DataFrame(results)\n",
    "print(results_df)\n"
   ]
  },
  {
   "cell_type": "markdown",
   "id": "e7c2b361",
   "metadata": {},
   "source": [
    "## Observations:\n",
    "\n",
    "**Accuracy:**\n",
    "\n",
    "Random Forest achieved the highest accuracy (98.12%), closely followed by AdaBoost (97.31%) and Logistic Regression (95.70%).\n",
    "K-Nearest Neighbors (KNN) has the lowest accuracy (91.03%).\n",
    "\n",
    "**Precision (Spam):**\n",
    "\n",
    "Precision for spam detection is perfect (1.00) in Logistic Regression, Random Forest, and KNN models, meaning they have no false positives for spam.\n",
    "AdaBoost has a slightly lower precision of 0.96.\n",
    "\n",
    "**Recall (Spam):**\n",
    "\n",
    "Random Forest shows the highest recall (0.86) for spam, meaning it correctly identifies 86% of the actual spam emails.\n",
    "Logistic Regression and AdaBoost have a recall of 0.68 and 0.83, respectively.\n",
    "KNN has a very low recall (0.33), meaning it misses a significant number of spam emails.\n",
    "\n",
    "**F1-Score (Spam):**\n",
    "\n",
    "Random Forest has the highest F1-Score (0.92), indicating a good balance between precision and recall.\n",
    "AdaBoost and Logistic Regression follow with F1-Scores of 0.89 and 0.81, respectively.\n",
    "KNN has the lowest F1-Score (0.49), reflecting its poor recall despite perfect precision.\n",
    "\n",
    "**Conclusion:**\n",
    "\n",
    "Random Forest emerges as the best-performing model overall, with the highest accuracy, precision, recall, and F1-score.\n",
    "AdaBoost and Logistic Regression also perform well, with AdaBoost being slightly better in terms of recall and F1-score than Logistic Regression.\n",
    "K-Nearest Neighbors (KNN) performs the worst, especially in recall and F1-score, suggesting it is not well-suited for this classification task."
   ]
  },
  {
   "cell_type": "code",
   "execution_count": 56,
   "id": "5a3a0427",
   "metadata": {},
   "outputs": [
    {
     "data": {
      "text/plain": [
       "array([0, 0, 0, ..., 0, 0, 0], dtype=int64)"
      ]
     },
     "execution_count": 56,
     "metadata": {},
     "output_type": "execute_result"
    }
   ],
   "source": [
    "rf_clf.predict(X_test)"
   ]
  },
  {
   "cell_type": "code",
   "execution_count": 57,
   "id": "de20c010",
   "metadata": {},
   "outputs": [
    {
     "data": {
      "text/plain": [
       "'ham'"
      ]
     },
     "execution_count": 57,
     "metadata": {},
     "output_type": "execute_result"
    }
   ],
   "source": [
    "df.Category.iloc[45]"
   ]
  },
  {
   "cell_type": "code",
   "execution_count": 60,
   "id": "f59799cb",
   "metadata": {},
   "outputs": [
    {
     "data": {
      "text/plain": [
       "'spam'"
      ]
     },
     "execution_count": 60,
     "metadata": {},
     "output_type": "execute_result"
    }
   ],
   "source": [
    "df.Category.iloc[2]"
   ]
  },
  {
   "cell_type": "code",
   "execution_count": null,
   "id": "385ba437",
   "metadata": {},
   "outputs": [],
   "source": []
  },
  {
   "cell_type": "code",
   "execution_count": null,
   "id": "9f3d4c2a",
   "metadata": {},
   "outputs": [],
   "source": []
  }
 ],
 "metadata": {
  "kernelspec": {
   "display_name": "Python 3 (ipykernel)",
   "language": "python",
   "name": "python3"
  },
  "language_info": {
   "codemirror_mode": {
    "name": "ipython",
    "version": 3
   },
   "file_extension": ".py",
   "mimetype": "text/x-python",
   "name": "python",
   "nbconvert_exporter": "python",
   "pygments_lexer": "ipython3",
   "version": "3.11.4"
  }
 },
 "nbformat": 4,
 "nbformat_minor": 5
}
