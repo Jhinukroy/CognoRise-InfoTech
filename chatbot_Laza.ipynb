{
  "nbformat": 4,
  "nbformat_minor": 0,
  "metadata": {
    "colab": {
      "provenance": []
    },
    "kernelspec": {
      "name": "python3",
      "display_name": "Python 3"
    },
    "language_info": {
      "name": "python"
    }
  },
  "cells": [
    {
      "cell_type": "code",
      "execution_count": 18,
      "metadata": {
        "colab": {
          "base_uri": "https://localhost:8080/"
        },
        "id": "gxkVDu77ey8U",
        "outputId": "81f1b4a0-4c96-463d-d89b-5f3eeba147b8"
      },
      "outputs": [
        {
          "output_type": "stream",
          "name": "stdout",
          "text": [
            "Requirement already satisfied: nltk in /usr/local/lib/python3.10/dist-packages (3.8.1)\n",
            "Requirement already satisfied: tensorflow in /usr/local/lib/python3.10/dist-packages (2.17.0)\n",
            "Requirement already satisfied: keras in /usr/local/lib/python3.10/dist-packages (3.4.1)\n",
            "Requirement already satisfied: click in /usr/local/lib/python3.10/dist-packages (from nltk) (8.1.7)\n",
            "Requirement already satisfied: joblib in /usr/local/lib/python3.10/dist-packages (from nltk) (1.4.2)\n",
            "Requirement already satisfied: regex>=2021.8.3 in /usr/local/lib/python3.10/dist-packages (from nltk) (2024.5.15)\n",
            "Requirement already satisfied: tqdm in /usr/local/lib/python3.10/dist-packages (from nltk) (4.66.5)\n",
            "Requirement already satisfied: absl-py>=1.0.0 in /usr/local/lib/python3.10/dist-packages (from tensorflow) (1.4.0)\n",
            "Requirement already satisfied: astunparse>=1.6.0 in /usr/local/lib/python3.10/dist-packages (from tensorflow) (1.6.3)\n",
            "Requirement already satisfied: flatbuffers>=24.3.25 in /usr/local/lib/python3.10/dist-packages (from tensorflow) (24.3.25)\n",
            "Requirement already satisfied: gast!=0.5.0,!=0.5.1,!=0.5.2,>=0.2.1 in /usr/local/lib/python3.10/dist-packages (from tensorflow) (0.6.0)\n",
            "Requirement already satisfied: google-pasta>=0.1.1 in /usr/local/lib/python3.10/dist-packages (from tensorflow) (0.2.0)\n",
            "Requirement already satisfied: h5py>=3.10.0 in /usr/local/lib/python3.10/dist-packages (from tensorflow) (3.11.0)\n",
            "Requirement already satisfied: libclang>=13.0.0 in /usr/local/lib/python3.10/dist-packages (from tensorflow) (18.1.1)\n",
            "Requirement already satisfied: ml-dtypes<0.5.0,>=0.3.1 in /usr/local/lib/python3.10/dist-packages (from tensorflow) (0.4.0)\n",
            "Requirement already satisfied: opt-einsum>=2.3.2 in /usr/local/lib/python3.10/dist-packages (from tensorflow) (3.3.0)\n",
            "Requirement already satisfied: packaging in /usr/local/lib/python3.10/dist-packages (from tensorflow) (24.1)\n",
            "Requirement already satisfied: protobuf!=4.21.0,!=4.21.1,!=4.21.2,!=4.21.3,!=4.21.4,!=4.21.5,<5.0.0dev,>=3.20.3 in /usr/local/lib/python3.10/dist-packages (from tensorflow) (3.20.3)\n",
            "Requirement already satisfied: requests<3,>=2.21.0 in /usr/local/lib/python3.10/dist-packages (from tensorflow) (2.32.3)\n",
            "Requirement already satisfied: setuptools in /usr/local/lib/python3.10/dist-packages (from tensorflow) (71.0.4)\n",
            "Requirement already satisfied: six>=1.12.0 in /usr/local/lib/python3.10/dist-packages (from tensorflow) (1.16.0)\n",
            "Requirement already satisfied: termcolor>=1.1.0 in /usr/local/lib/python3.10/dist-packages (from tensorflow) (2.4.0)\n",
            "Requirement already satisfied: typing-extensions>=3.6.6 in /usr/local/lib/python3.10/dist-packages (from tensorflow) (4.12.2)\n",
            "Requirement already satisfied: wrapt>=1.11.0 in /usr/local/lib/python3.10/dist-packages (from tensorflow) (1.16.0)\n",
            "Requirement already satisfied: grpcio<2.0,>=1.24.3 in /usr/local/lib/python3.10/dist-packages (from tensorflow) (1.64.1)\n",
            "Requirement already satisfied: tensorboard<2.18,>=2.17 in /usr/local/lib/python3.10/dist-packages (from tensorflow) (2.17.0)\n",
            "Requirement already satisfied: tensorflow-io-gcs-filesystem>=0.23.1 in /usr/local/lib/python3.10/dist-packages (from tensorflow) (0.37.1)\n",
            "Requirement already satisfied: numpy<2.0.0,>=1.23.5 in /usr/local/lib/python3.10/dist-packages (from tensorflow) (1.26.4)\n",
            "Requirement already satisfied: rich in /usr/local/lib/python3.10/dist-packages (from keras) (13.8.0)\n",
            "Requirement already satisfied: namex in /usr/local/lib/python3.10/dist-packages (from keras) (0.0.8)\n",
            "Requirement already satisfied: optree in /usr/local/lib/python3.10/dist-packages (from keras) (0.12.1)\n",
            "Requirement already satisfied: wheel<1.0,>=0.23.0 in /usr/local/lib/python3.10/dist-packages (from astunparse>=1.6.0->tensorflow) (0.44.0)\n",
            "Requirement already satisfied: charset-normalizer<4,>=2 in /usr/local/lib/python3.10/dist-packages (from requests<3,>=2.21.0->tensorflow) (3.3.2)\n",
            "Requirement already satisfied: idna<4,>=2.5 in /usr/local/lib/python3.10/dist-packages (from requests<3,>=2.21.0->tensorflow) (3.8)\n",
            "Requirement already satisfied: urllib3<3,>=1.21.1 in /usr/local/lib/python3.10/dist-packages (from requests<3,>=2.21.0->tensorflow) (2.0.7)\n",
            "Requirement already satisfied: certifi>=2017.4.17 in /usr/local/lib/python3.10/dist-packages (from requests<3,>=2.21.0->tensorflow) (2024.8.30)\n",
            "Requirement already satisfied: markdown>=2.6.8 in /usr/local/lib/python3.10/dist-packages (from tensorboard<2.18,>=2.17->tensorflow) (3.7)\n",
            "Requirement already satisfied: tensorboard-data-server<0.8.0,>=0.7.0 in /usr/local/lib/python3.10/dist-packages (from tensorboard<2.18,>=2.17->tensorflow) (0.7.2)\n",
            "Requirement already satisfied: werkzeug>=1.0.1 in /usr/local/lib/python3.10/dist-packages (from tensorboard<2.18,>=2.17->tensorflow) (3.0.4)\n",
            "Requirement already satisfied: markdown-it-py>=2.2.0 in /usr/local/lib/python3.10/dist-packages (from rich->keras) (3.0.0)\n",
            "Requirement already satisfied: pygments<3.0.0,>=2.13.0 in /usr/local/lib/python3.10/dist-packages (from rich->keras) (2.16.1)\n",
            "Requirement already satisfied: mdurl~=0.1 in /usr/local/lib/python3.10/dist-packages (from markdown-it-py>=2.2.0->rich->keras) (0.1.2)\n",
            "Requirement already satisfied: MarkupSafe>=2.1.1 in /usr/local/lib/python3.10/dist-packages (from werkzeug>=1.0.1->tensorboard<2.18,>=2.17->tensorflow) (2.1.5)\n"
          ]
        }
      ],
      "source": [
        "!pip install nltk tensorflow keras"
      ]
    },
    {
      "cell_type": "code",
      "source": [
        "!pip install nltk\n"
      ],
      "metadata": {
        "colab": {
          "base_uri": "https://localhost:8080/"
        },
        "id": "mvoaFDP1e9r_",
        "outputId": "babf5112-48b4-4b53-ddcb-3a06f1e5912e"
      },
      "execution_count": 19,
      "outputs": [
        {
          "output_type": "stream",
          "name": "stdout",
          "text": [
            "Requirement already satisfied: nltk in /usr/local/lib/python3.10/dist-packages (3.8.1)\n",
            "Requirement already satisfied: click in /usr/local/lib/python3.10/dist-packages (from nltk) (8.1.7)\n",
            "Requirement already satisfied: joblib in /usr/local/lib/python3.10/dist-packages (from nltk) (1.4.2)\n",
            "Requirement already satisfied: regex>=2021.8.3 in /usr/local/lib/python3.10/dist-packages (from nltk) (2024.5.15)\n",
            "Requirement already satisfied: tqdm in /usr/local/lib/python3.10/dist-packages (from nltk) (4.66.5)\n"
          ]
        }
      ]
    },
    {
      "cell_type": "code",
      "source": [
        "import nltk\n",
        "import random\n",
        "import string  # to process standard python strings\n",
        "from nltk.corpus import wordnet\n",
        "from nltk.corpus import stopwords\n",
        "from nltk.tokenize import word_tokenize, sent_tokenize"
      ],
      "metadata": {
        "id": "XE-H59LNgBA7"
      },
      "execution_count": 20,
      "outputs": []
    },
    {
      "cell_type": "code",
      "source": [
        "# Download required NLTK data\n",
        "nltk.download('punkt')\n",
        "nltk.download('wordnet')\n",
        "nltk.download('stopwords')"
      ],
      "metadata": {
        "colab": {
          "base_uri": "https://localhost:8080/"
        },
        "id": "wYEaGMiXgGqQ",
        "outputId": "8dcc6dd4-9189-4cbb-9cb2-b6aca56d5a7c"
      },
      "execution_count": 21,
      "outputs": [
        {
          "output_type": "stream",
          "name": "stderr",
          "text": [
            "[nltk_data] Downloading package punkt to /root/nltk_data...\n",
            "[nltk_data]   Package punkt is already up-to-date!\n",
            "[nltk_data] Downloading package wordnet to /root/nltk_data...\n",
            "[nltk_data]   Package wordnet is already up-to-date!\n",
            "[nltk_data] Downloading package stopwords to /root/nltk_data...\n",
            "[nltk_data]   Package stopwords is already up-to-date!\n"
          ]
        },
        {
          "output_type": "execute_result",
          "data": {
            "text/plain": [
              "True"
            ]
          },
          "metadata": {},
          "execution_count": 21
        }
      ]
    },
    {
      "cell_type": "code",
      "source": [
        "!pip install requests"
      ],
      "metadata": {
        "id": "cqEN9Gz3iTrT",
        "colab": {
          "base_uri": "https://localhost:8080/"
        },
        "outputId": "57e96770-d28a-4eb8-c074-eaebd7cbe8be"
      },
      "execution_count": 22,
      "outputs": [
        {
          "output_type": "stream",
          "name": "stdout",
          "text": [
            "Requirement already satisfied: requests in /usr/local/lib/python3.10/dist-packages (2.32.3)\n",
            "Requirement already satisfied: charset-normalizer<4,>=2 in /usr/local/lib/python3.10/dist-packages (from requests) (3.3.2)\n",
            "Requirement already satisfied: idna<4,>=2.5 in /usr/local/lib/python3.10/dist-packages (from requests) (3.8)\n",
            "Requirement already satisfied: urllib3<3,>=1.21.1 in /usr/local/lib/python3.10/dist-packages (from requests) (2.0.7)\n",
            "Requirement already satisfied: certifi>=2017.4.17 in /usr/local/lib/python3.10/dist-packages (from requests) (2024.8.30)\n"
          ]
        }
      ]
    },
    {
      "cell_type": "code",
      "source": [
        "# Replace with your NewsAPI key\n",
        "NEWS_API_KEY = '1354cd32d06c4d17adcd7b5183162009'\n",
        "NEWS_URLs = f'https://newsapi.org/v2/everything?q=keyword&apiKey={NEWS_API_KEY}'\n"
      ],
      "metadata": {
        "id": "wRQlC2IEgLna"
      },
      "execution_count": 27,
      "outputs": []
    },
    {
      "cell_type": "code",
      "source": [
        "# Global variable to store news articles\n",
        "news_articles = []"
      ],
      "metadata": {
        "id": "T5GGvU0JgVOo"
      },
      "execution_count": 53,
      "outputs": []
    },
    {
      "cell_type": "code",
      "source": [
        "# Function to fetch news from the API\n",
        "def fetch_news():\n",
        "    global news_articles\n",
        "    try:\n",
        "        response = requests.get(NEWS_URLs)\n",
        "        response.raise_for_status()  # Raise an exception for HTTP errors\n",
        "        news_data = response.json()\n",
        "        news_articles = news_data['articles'][:5]  # Get top 5 news articles\n",
        "        if news_articles:\n",
        "            news_list = [f\"{i+1}. Title: {article['title']}\\n   Description: {article['description']}\\n\" for i, article in enumerate(news_articles)]\n",
        "            return '\\n'.join(news_list)\n",
        "        else:\n",
        "            return \"No news articles are available at the moment.\"\n",
        "    except requests.exceptions.RequestException as e:\n",
        "        return f\"Error: {str(e)}. Unable to fetch news.\"\n",
        "\n",
        "# Function to handle user input for selecting an article\n",
        "def get_article_details(article_number):\n",
        "    global news_articles\n",
        "    if 1 <= article_number <= len(news_articles):\n",
        "        article = news_articles[article_number - 1]\n",
        "        return f\"Title: {article['title']}\\nDescription: {article['description']}\\nContent: {article.get('content', 'No content available')}\\nURL: {article['url']}\\n\"\n",
        "    else:\n",
        "        return \"Invalid article number. Please select a valid number.\"\n",
        "\n",
        "\n",
        "# Main chatbot logic\n",
        "def chatbot():\n",
        "    print(\"Welcome to the Live News Chatbot Laza! Type 'news' to get the latest headlines, or 'bye' to exit.\")\n",
        "\n",
        "    while True:\n",
        "        user_input = input(\"You: \").strip().lower()\n",
        "        if user_input in ['hi', 'hello']:\n",
        "            print(\"Chatbot Laza: Hi human! 👋\")\n",
        "        elif user_input == 'how are you?':\n",
        "            print(\"Chatbot Laza: I’m an AI, so I can’t feel anything, but I’m here to help you! 🤖\")\n",
        "        elif user_input in ['news', 'give me some news', 'show me the news', 'what is the latest news?']:\n",
        "            print(\"Fetching the latest news... 📈\")\n",
        "            news = fetch_news()\n",
        "            print(news)\n",
        "            print(\"Type the number of the article you want to read in full or 'news' to fetch the latest news again.\")\n",
        "        elif user_input == 'give me suggestions what should i do?':\n",
        "            print(\"Chatbot Laza: Relax first, drink some water, then tell me how I can help you. Why are you scared? 🌟\")\n",
        "        elif user_input == 'bye':\n",
        "            print(\"Goodbye! Have a great day! 😊\")\n",
        "            break\n",
        "        elif user_input.isdigit():\n",
        "            article_number = int(user_input)\n",
        "            details = get_article_details(article_number)\n",
        "            print(details)\n",
        "            print(\"Type 'news' to get more news, or 'bye' to exit.\")\n",
        "        else:\n",
        "            print(\"Invalid input. Please type 'news' to get the latest headlines, a number to get specific article details, 'hi' to greet the chatbot, 'how are you?' to inquire about the chatbot, 'give me suggestions what should I do?' for advice, or 'bye' to exit.\")\n"
      ],
      "metadata": {
        "id": "z7CD3hY5syMC"
      },
      "execution_count": 55,
      "outputs": []
    },
    {
      "cell_type": "markdown",
      "source": [
        "### Talk With Chatbot\n"
      ],
      "metadata": {
        "id": "kH8l2lKShAQn"
      }
    },
    {
      "cell_type": "code",
      "source": [
        "# Run the chatbot\n",
        "chatbot()\n"
      ],
      "metadata": {
        "id": "UwAY0w65gs3N",
        "colab": {
          "base_uri": "https://localhost:8080/"
        },
        "outputId": "07326a1f-0a67-4947-ee08-f1e97fa08b4d"
      },
      "execution_count": 56,
      "outputs": [
        {
          "output_type": "stream",
          "name": "stdout",
          "text": [
            "Welcome to the Live News Chatbot Laza! Type 'news' to get the latest headlines, or 'bye' to exit.\n",
            "You: hi\n",
            "Chatbot Laza: Hi human! 👋\n",
            "You: news\n",
            "Fetching the latest news... 📈\n",
            "1. Title: Jobalytics – ATS Resume Checker – Job Search Tools\n",
            "   Description: Jobalytics, your best AI tool for ATS resume checker、ATS resume scanner and Keyword Analysis. Simplify your job hunt.Try it free online now!\n",
            "\n",
            "2. Title: Researching Keywords for Your SEO Strategy, Step by Step\n",
            "   Description: Successfully ranking for the keywords you’re targeting won’t make much of an impact on your business if those keywords are...\n",
            "The post Researching Keywords for Your SEO Strategy, Step by Step appeared first on TopRank® Marketing.\n",
            "\n",
            "3. Title: Indian Navy Accidentally Reveals Nuke Removal in Yoga Instagram Post\n",
            "   Description: Never underestimate the ability of a nuclear nerd to pour through years of social media posts.\n",
            "\n",
            "4. Title: Google Makes Your Pixel Screenshots Searchable With Recall-like AI Feature\n",
            "   Description: An anonymous reader shares a report: Google has announced Pixel Screenshots, a new AI-powered app for its Pixel 9 lineup that lets you save, organize, and surface information from screenshots. Pixel Screenshot uses Google's private, on-device Gemini Nano AI m…\n",
            "\n",
            "5. Title: The Pixel Watch 3 has a new life-saving feature, and Google explains how it works\n",
            "   Description: Google explained its Loss of Pulse detection feature for the Pixel Watch 3 and how it came to be.\n",
            "\n",
            "Type the number of the article you want to read in full or 'news' to fetch the latest news again.\n",
            "You: 3\n",
            "Title: Indian Navy Accidentally Reveals Nuke Removal in Yoga Instagram Post\n",
            "Description: Never underestimate the ability of a nuclear nerd to pour through years of social media posts.\n",
            "Content: World governments arent exactly forthcoming about where theyre stashing all their nukes. You want people to know youve got them, but not necessarily where theyre located. You would not want to, say, … [+4373 chars]\n",
            "URL: https://gizmodo.com/indian-navy-accidentally-reveals-nuke-removal-in-yoga-instagram-post-2000486506\n",
            "\n",
            "Type 'news' to get more news, or 'bye' to exit.\n",
            "You: bye\n",
            "Goodbye! Have a great day! 😊\n"
          ]
        }
      ]
    },
    {
      "cell_type": "code",
      "source": [],
      "metadata": {
        "id": "OfYtplUFy9lh"
      },
      "execution_count": null,
      "outputs": []
    }
  ]
}